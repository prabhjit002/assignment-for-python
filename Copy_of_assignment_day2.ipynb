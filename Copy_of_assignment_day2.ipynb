{
  "nbformat": 4,
  "nbformat_minor": 0,
  "metadata": {
    "colab": {
      "provenance": [],
      "authorship_tag": "ABX9TyP/Sg4Dj3NGqZRYzaf2V8lr",
      "include_colab_link": true
    },
    "kernelspec": {
      "name": "python3",
      "display_name": "Python 3"
    },
    "language_info": {
      "name": "python"
    }
  },
  "cells": [
    {
      "cell_type": "markdown",
      "metadata": {
        "id": "view-in-github",
        "colab_type": "text"
      },
      "source": [
        "<a href=\"https://colab.research.google.com/github/prabhjit002/assignment-for-python/blob/main/Copy_of_assignment_day2.ipynb\" target=\"_parent\"><img src=\"https://colab.research.google.com/assets/colab-badge.svg\" alt=\"Open In Colab\"/></a>"
      ]
    },
    {
      "cell_type": "markdown",
      "source": [
        "\n",
        "\n",
        "```\n",
        "# This is formatted as code\n",
        "```\n",
        "\n",
        "assignment\n",
        "ques1\n",
        "L is a list defined as L= [11, 12, 13, 14].\n",
        "(i) WAP to add 50 and 60 to L."
      ],
      "metadata": {
        "id": "kAruu1LCo1QW"
      }
    },
    {
      "cell_type": "code",
      "source": [
        "L=[11, 12, 13, 14]\n",
        "#add numbers to L\n",
        "L.append(50)\n",
        "L.append(60)\n",
        "\n",
        "print(L)"
      ],
      "metadata": {
        "colab": {
          "base_uri": "https://localhost:8080/"
        },
        "id": "YOSNHQKuo-PF",
        "outputId": "aee28a7b-00ef-4464-c369-cfe42cc44d39"
      },
      "execution_count": null,
      "outputs": [
        {
          "output_type": "stream",
          "name": "stdout",
          "text": [
            "[11, 12, 13, 14, 50, 60]\n"
          ]
        }
      ]
    },
    {
      "cell_type": "markdown",
      "source": [
        "(ii) WAP to remove 11 and 13from L."
      ],
      "metadata": {
        "id": "7YtcnJNkpfLw"
      }
    },
    {
      "cell_type": "code",
      "source": [
        "L=[11, 12, 13, 14, 50, 60]\n",
        "#remove number\n",
        "L.remove(11)\n",
        "L.remove(13)\n",
        "\n",
        "print(L)"
      ],
      "metadata": {
        "colab": {
          "base_uri": "https://localhost:8080/"
        },
        "id": "wGsewAw1pxpt",
        "outputId": "634f4ce9-aac8-4922-a8fc-b91927b2d766"
      },
      "execution_count": null,
      "outputs": [
        {
          "output_type": "stream",
          "name": "stdout",
          "text": [
            "[12, 14, 50, 60]\n"
          ]
        }
      ]
    },
    {
      "cell_type": "markdown",
      "source": [
        "(iii)WAP to sort L in ascending order"
      ],
      "metadata": {
        "id": "o689ajRHqdAW"
      }
    },
    {
      "cell_type": "code",
      "source": [
        "L=[12, 14, 50, 60]\n",
        "#sort ascending\n",
        "L.sort()\n",
        "\n",
        "print(L)\n"
      ],
      "metadata": {
        "colab": {
          "base_uri": "https://localhost:8080/"
        },
        "id": "ZRc8MYHeqfMu",
        "outputId": "ccbc3ecc-95d5-4415-84fe-43592ec8b915"
      },
      "execution_count": null,
      "outputs": [
        {
          "output_type": "stream",
          "name": "stdout",
          "text": [
            "[12, 14, 50, 60]\n"
          ]
        }
      ]
    },
    {
      "cell_type": "markdown",
      "source": [
        "# (iv)WAP to sort L in descending order."
      ],
      "metadata": {
        "id": "mQg15pAwrKnY"
      }
    },
    {
      "cell_type": "code",
      "source": [
        "L=[12, 14, 50, 60]\n",
        "#sort desending\n",
        "L.sort(reverse=True)\n",
        "\n",
        "print(L)"
      ],
      "metadata": {
        "colab": {
          "base_uri": "https://localhost:8080/"
        },
        "id": "8JDKBBgbrNeq",
        "outputId": "e81f6e23-fef5-4976-f3f2-ca31529eaf75"
      },
      "execution_count": null,
      "outputs": [
        {
          "output_type": "stream",
          "name": "stdout",
          "text": [
            "[60, 50, 14, 12]\n"
          ]
        }
      ]
    },
    {
      "cell_type": "markdown",
      "source": [
        "(v)WAP to search for 13 in L."
      ],
      "metadata": {
        "id": "mzIX534NsBc4"
      }
    },
    {
      "cell_type": "code",
      "source": [
        "L=[50, 60, 12, 14]\n",
        "#find 13\n",
        "if 13 in L:\n",
        "  print(\" 13 is present\")\n",
        "else:\n",
        "    print(\" 13 in not present\")\n"
      ],
      "metadata": {
        "colab": {
          "base_uri": "https://localhost:8080/"
        },
        "id": "1PQ5sDGzsEE0",
        "outputId": "86af6c3b-95ac-45c6-eaec-e0b6a1c152b3"
      },
      "execution_count": null,
      "outputs": [
        {
          "output_type": "stream",
          "name": "stdout",
          "text": [
            " 13 in not present\n"
          ]
        }
      ]
    },
    {
      "cell_type": "markdown",
      "source": [
        "(vi)WAP to count the number of elements present in L"
      ],
      "metadata": {
        "id": "YbM9AYf1uAM_"
      }
    },
    {
      "cell_type": "code",
      "source": [
        "L=[12, 14, 50, 60]\n",
        "count = len(L)\n",
        "print(f\"the lenght of element in list :{count}\")\n"
      ],
      "metadata": {
        "colab": {
          "base_uri": "https://localhost:8080/"
        },
        "id": "UHkPR3ILuClU",
        "outputId": "713c479d-449a-436e-ad07-881e5ce759ab"
      },
      "execution_count": 1,
      "outputs": [
        {
          "output_type": "stream",
          "name": "stdout",
          "text": [
            "the lenght of element in list :4\n"
          ]
        }
      ]
    },
    {
      "cell_type": "markdown",
      "source": [
        " (vii)WAP to sum all the elements in L."
      ],
      "metadata": {
        "id": "dRwWnwOHvzZN"
      }
    },
    {
      "cell_type": "code",
      "source": [
        "L=[12, 14, 50, 60]\n",
        "total_sum=sum(L)\n",
        "print(f\"sum of all element in list: {total_sum}\")\n"
      ],
      "metadata": {
        "colab": {
          "base_uri": "https://localhost:8080/"
        },
        "id": "V-tTVjlEv2sU",
        "outputId": "821d159a-cb39-45a1-f38d-e0b0e6d48b3c"
      },
      "execution_count": null,
      "outputs": [
        {
          "output_type": "stream",
          "name": "stdout",
          "text": [
            "sum of all element in list: 136\n"
          ]
        }
      ]
    },
    {
      "cell_type": "markdown",
      "source": [
        "(viii)WAP to sum all ODD numbers in L."
      ],
      "metadata": {
        "id": "11xxAG45x1UC"
      }
    },
    {
      "cell_type": "code",
      "source": [
        "L=[12, 14, 50, 60]\n",
        "\n",
        "odd_sum=sum(i for i in L if i%2!=0)\n",
        "print(f\"sum of odd element in list: {odd_sum}\")"
      ],
      "metadata": {
        "colab": {
          "base_uri": "https://localhost:8080/"
        },
        "id": "kq4Hlpl_x3zI",
        "outputId": "e9e8776f-5085-491c-d26b-b38ba0b6e7a4"
      },
      "execution_count": null,
      "outputs": [
        {
          "output_type": "stream",
          "name": "stdout",
          "text": [
            "sum of odd element in list: 0\n"
          ]
        }
      ]
    },
    {
      "cell_type": "markdown",
      "source": [
        "(ix)WAP to sum all EVEN numbers in L"
      ],
      "metadata": {
        "id": "eD8M8GBKzPGw"
      }
    },
    {
      "cell_type": "code",
      "source": [
        "L=[12, 14, 50, 60]\n",
        "even_sum=sum(i for i in L if i%2==0)\n",
        "print(f\"sum of even element in list: {even_sum}\")"
      ],
      "metadata": {
        "colab": {
          "base_uri": "https://localhost:8080/"
        },
        "id": "VIWFCv8kza-5",
        "outputId": "27fc2263-43b2-4091-a943-85856f23f859"
      },
      "execution_count": null,
      "outputs": [
        {
          "output_type": "stream",
          "name": "stdout",
          "text": [
            "sum of even element in list: 136\n"
          ]
        }
      ]
    },
    {
      "cell_type": "markdown",
      "source": [
        "(x)WAP to sum all PRIME numbers in L"
      ],
      "metadata": {
        "id": "U9AWvi6X2JvQ"
      }
    },
    {
      "cell_type": "code",
      "source": [
        "L=[12, 14, 50, 60]\n",
        "def is_prime(n):\n",
        "    if n <= 1:\n",
        "        return False\n",
        "    if n <= 3:\n",
        "        return True\n",
        "    if n % 2 == 0 or n % 3 == 0:\n",
        "        return False\n",
        "    i = 5\n",
        "    while i * i <= n:\n",
        "        if n % i == 0 or n % (i + 2) == 0:\n",
        "            return False\n",
        "        i += 6\n",
        "    return True\n",
        "    L = [60, 13, 50, 15, 14, 17, 19]\n",
        "\n",
        "\n",
        "prime_sum = sum(x for x in L if is_prime(x))\n",
        "\n",
        "\n",
        "print(f\"The sum of all prime numbers in the list is: {prime_sum}\")"
      ],
      "metadata": {
        "colab": {
          "base_uri": "https://localhost:8080/"
        },
        "id": "RD0v-owWzkBc",
        "outputId": "1eea4893-b1aa-43f6-ecd2-cbc169f9f727"
      },
      "execution_count": null,
      "outputs": [
        {
          "output_type": "stream",
          "name": "stdout",
          "text": [
            "The sum of all prime numbers in the list is: 0\n"
          ]
        }
      ]
    },
    {
      "cell_type": "markdown",
      "source": [
        "(xi)WAP to clear all the elements in L."
      ],
      "metadata": {
        "id": "ffr2ciLY2eFS"
      }
    },
    {
      "cell_type": "code",
      "source": [
        "\n",
        "L = [60, 13, 50, 15, 14, 17, 19]\n",
        "\n",
        "L.clear()\n",
        "\n",
        "print(\"The list after clearing all elements:\", L)\n"
      ],
      "metadata": {
        "colab": {
          "base_uri": "https://localhost:8080/"
        },
        "id": "2JMUEECE2ghk",
        "outputId": "162bf6b3-a9f3-4f20-9513-6ac8f14426df"
      },
      "execution_count": null,
      "outputs": [
        {
          "output_type": "stream",
          "name": "stdout",
          "text": [
            "The list after clearing all elements: []\n"
          ]
        }
      ]
    },
    {
      "cell_type": "markdown",
      "source": [
        "(xii)WAP to delete L."
      ],
      "metadata": {
        "id": "3J8sYgIf2vBV"
      }
    },
    {
      "cell_type": "code",
      "source": [
        "\n",
        "L = [60, 13, 50, 15, 14, 17, 19]\n",
        "\n",
        "del L\n",
        "\n",
        "try:\n",
        "    print(L)\n",
        "except NameError:\n",
        "    print(\"The list L has been deleted.\")\n"
      ],
      "metadata": {
        "colab": {
          "base_uri": "https://localhost:8080/"
        },
        "id": "O9VBNcnw2wzq",
        "outputId": "9938a042-8a61-4025-9e3e-20934354cd88"
      },
      "execution_count": null,
      "outputs": [
        {
          "output_type": "stream",
          "name": "stdout",
          "text": [
            "The list L has been deleted.\n"
          ]
        }
      ]
    },
    {
      "cell_type": "markdown",
      "source": [
        "question 2\n",
        "D is a dictionary defined as D= {1:5.6, 2:7.8, 3:6.6, 4:8.7, 5:7.7}.\n"
      ],
      "metadata": {
        "id": "DUsVRduu27Qc"
      }
    },
    {
      "cell_type": "markdown",
      "source": [
        "\n",
        "(i) WAP to add new entry in D; key=8 and value is 8.8"
      ],
      "metadata": {
        "id": "B43EwNaK29LS"
      }
    },
    {
      "cell_type": "code",
      "source": [
        "\n",
        "D = {1: 5.6, 2: 7.8, 3: 6.6, 4: 8.7, 5: 7.7}\n",
        "\n",
        "\n",
        "D[8] = 8.8\n",
        "\n",
        "\n",
        "print(\"Updated dictionary:\", D)\n"
      ],
      "metadata": {
        "colab": {
          "base_uri": "https://localhost:8080/"
        },
        "id": "PCyVgiFZ3TVN",
        "outputId": "066e5f80-2f44-4039-c48c-5cb5d6152b7d"
      },
      "execution_count": null,
      "outputs": [
        {
          "output_type": "stream",
          "name": "stdout",
          "text": [
            "Updated dictionary: {1: 5.6, 2: 7.8, 3: 6.6, 4: 8.7, 5: 7.7, 8: 8.8}\n"
          ]
        }
      ]
    },
    {
      "cell_type": "markdown",
      "source": [
        "(ii)WAP to remove key=2"
      ],
      "metadata": {
        "id": "FSAEfVCW3X5F"
      }
    },
    {
      "cell_type": "code",
      "source": [
        "\n",
        "D = {1: 5.6, 2: 7.8, 3: 6.6, 4: 8.7, 5: 7.7}\n",
        "\n",
        "del D[2]\n",
        "\n",
        "print(\"Updated dictionary:\", D)\n",
        "\n"
      ],
      "metadata": {
        "colab": {
          "base_uri": "https://localhost:8080/"
        },
        "id": "bR2tGG6W3bdr",
        "outputId": "2950dfde-e0c2-4e57-dad6-d1f7282bea50"
      },
      "execution_count": null,
      "outputs": [
        {
          "output_type": "stream",
          "name": "stdout",
          "text": [
            "Updated dictionary: {1: 5.6, 3: 6.6, 4: 8.7, 5: 7.7}\n"
          ]
        }
      ]
    },
    {
      "cell_type": "markdown",
      "source": [
        "(iii)WAP to check weather 6 key is present in D"
      ],
      "metadata": {
        "id": "dKYCn4IX4HCe"
      }
    },
    {
      "cell_type": "code",
      "source": [
        "\n",
        "D = {1: 5.6, 2: 7.8, 3: 6.6, 4: 8.7, 5: 7.7}\n",
        "\n",
        "if 6 in D:\n",
        "    print(\"Key 6 is present in the dictionary.\")\n",
        "else:\n",
        "    print(\"Key 6 is not present in the dictionary.\")\n"
      ],
      "metadata": {
        "colab": {
          "base_uri": "https://localhost:8080/"
        },
        "id": "d6Sgajc74I-7",
        "outputId": "f65ad389-125d-453d-9699-eb7b8bb389da"
      },
      "execution_count": null,
      "outputs": [
        {
          "output_type": "stream",
          "name": "stdout",
          "text": [
            "Key 6 is not present in the dictionary.\n"
          ]
        }
      ]
    },
    {
      "cell_type": "markdown",
      "source": [
        "(iv)WAP to count the number of elements present in D"
      ],
      "metadata": {
        "id": "XeLxPbPy4aU6"
      }
    },
    {
      "cell_type": "code",
      "source": [
        "\n",
        "D = {1: 5.6, 2: 7.8, 3: 6.6, 4: 8.7, 5: 7.7}\n",
        "\n",
        "num_elements = len(D)\n",
        "\n",
        "# Output\n",
        "\n",
        "print(f\"The number of elements in the dictionary is: {num_elements}\")\n"
      ],
      "metadata": {
        "colab": {
          "base_uri": "https://localhost:8080/"
        },
        "id": "ziC1BZtP4cSu",
        "outputId": "ea2c6495-147d-4dc9-aec1-c3dc07079c23"
      },
      "execution_count": null,
      "outputs": [
        {
          "output_type": "stream",
          "name": "stdout",
          "text": [
            "The number of elements in the dictionary is: 5\n"
          ]
        }
      ]
    },
    {
      "cell_type": "markdown",
      "source": [
        "(v)WAP to add all the values present D."
      ],
      "metadata": {
        "id": "9YqnFPu6BQnM"
      }
    },
    {
      "cell_type": "code",
      "source": [
        "D = {1: 5.6, 2: 7.8, 3: 6.6, 4: 8.7, 5: 7.7}\n",
        "\n",
        "\n",
        "total_sum = sum(D.values())\n",
        "\n",
        "# Output\n",
        "print(f\"The sum of all values in the dictionary is: {total_sum}\")\n"
      ],
      "metadata": {
        "colab": {
          "base_uri": "https://localhost:8080/"
        },
        "id": "NdAx5jf0Bd3T",
        "outputId": "3f0dff7a-5b40-4b47-d726-f4e824b77e47"
      },
      "execution_count": null,
      "outputs": [
        {
          "output_type": "stream",
          "name": "stdout",
          "text": [
            "The sum of all values in the dictionary is: 36.4\n"
          ]
        }
      ]
    },
    {
      "cell_type": "markdown",
      "source": [
        "(vi)WAP to update the value of 3 to 7.1"
      ],
      "metadata": {
        "id": "xQKVDG2eDYr_"
      }
    },
    {
      "cell_type": "code",
      "source": [
        "D = {1: 5.6, 2: 7.8, 3: 6.6, 4: 8.7, 5: 7.7}\n",
        "D[3] = 7.1\n",
        "\n",
        "# Output\n",
        "print(\"Updated dictionary:\", D)\n",
        "\n"
      ],
      "metadata": {
        "colab": {
          "base_uri": "https://localhost:8080/"
        },
        "id": "5xgCpl0IDaRi",
        "outputId": "597ca6eb-7f37-4796-f870-218781af821d"
      },
      "execution_count": null,
      "outputs": [
        {
          "output_type": "stream",
          "name": "stdout",
          "text": [
            "Updated dictionary: {1: 5.6, 2: 7.8, 3: 7.1, 4: 8.7, 5: 7.7}\n"
          ]
        }
      ]
    },
    {
      "cell_type": "markdown",
      "source": [
        "(vii)WAP to clear the dictionary"
      ],
      "metadata": {
        "id": "stivfDH_D0Ky"
      }
    },
    {
      "cell_type": "code",
      "source": [
        "D = {1: 5.6, 2: 7.8, 3: 7.1, 4: 8.7, 5: 7.7}\n",
        "\n",
        "D.clear()\n",
        "print(\"The dictionary after clearing all elements:\", D)\n"
      ],
      "metadata": {
        "colab": {
          "base_uri": "https://localhost:8080/"
        },
        "id": "DQDEaowsD1xa",
        "outputId": "1e227107-408d-4eb7-f669-9a0ae56ecd87"
      },
      "execution_count": null,
      "outputs": [
        {
          "output_type": "stream",
          "name": "stdout",
          "text": [
            "The dictionary after clearing all elements: {}\n"
          ]
        }
      ]
    },
    {
      "cell_type": "markdown",
      "source": [
        "question 3 . S1 is a set defined as S1= [10, 20, 30, 40, 50, 60].\n",
        " S2 is a set defined as S2= [40, 50, 60, 70, 80, 90]."
      ],
      "metadata": {
        "id": "vUZNz0CGEkDF"
      }
    },
    {
      "cell_type": "markdown",
      "source": [
        "(i)WAP to add 55 and 66 in Set S1"
      ],
      "metadata": {
        "id": "cjKoqWxMElyj"
      }
    },
    {
      "cell_type": "code",
      "source": [
        "S1 = {10, 20, 30, 40, 50, 60}\n",
        "S2 = {40, 50, 60, 70, 80, 90}\n",
        "\n",
        "# Add elements 55 and 66 to set S1\n",
        "S1.add(55)\n",
        "S1.add(66)\n",
        "\n",
        "print(\"Updated set S1:\", S1)\n"
      ],
      "metadata": {
        "colab": {
          "base_uri": "https://localhost:8080/"
        },
        "id": "Fpx7VDc9EoUQ",
        "outputId": "4df3d5fd-b793-4e4d-a096-784d4cb06b7b"
      },
      "execution_count": null,
      "outputs": [
        {
          "output_type": "stream",
          "name": "stdout",
          "text": [
            "Updated set S1: {50, 66, 20, 55, 40, 10, 60, 30}\n"
          ]
        }
      ]
    },
    {
      "cell_type": "markdown",
      "source": [
        "(ii)WAP to remove 10 and 30 from Set S1.\n",
        "\n",
        "\n",
        "\n",
        "\n"
      ],
      "metadata": {
        "id": "o6lVXuGLFQPW"
      }
    },
    {
      "cell_type": "code",
      "source": [
        "S1 = {66, 40, 10, 50, 20, 55, 60, 30}\n",
        "S1.remove(10)\n",
        "S1.remove(30)\n",
        "\n",
        "# Output\n",
        "print(\"Updated set S1:\", S1)\n"
      ],
      "metadata": {
        "colab": {
          "base_uri": "https://localhost:8080/"
        },
        "id": "Z6lNC1HEF7AD",
        "outputId": "35f65029-6f6f-48a5-c0ea-b27bee6ac708"
      },
      "execution_count": null,
      "outputs": [
        {
          "output_type": "stream",
          "name": "stdout",
          "text": [
            "Updated set S1: {66, 40, 50, 20, 55, 60}\n"
          ]
        }
      ]
    },
    {
      "cell_type": "markdown",
      "source": [
        "(iii)WAP to check whether 40 is present in S1"
      ],
      "metadata": {
        "id": "TwJRT9xDG2V8"
      }
    },
    {
      "cell_type": "code",
      "source": [
        "S1 = {66, 40, 50, 20, 55, 60}\n",
        "if 40 in S1:\n",
        "    print(\"40 is present in set S1.\")\n",
        "else:\n",
        "    print(\"40 is not present in set S1.\")\n"
      ],
      "metadata": {
        "colab": {
          "base_uri": "https://localhost:8080/"
        },
        "id": "T2kz9VrQG31q",
        "outputId": "01166176-6d24-4bbc-f4c4-dc4ae3179fe5"
      },
      "execution_count": null,
      "outputs": [
        {
          "output_type": "stream",
          "name": "stdout",
          "text": [
            "40 is present in set S1.\n"
          ]
        }
      ]
    },
    {
      "cell_type": "markdown",
      "source": [
        "(vi)WAP to find the union between S1 and S2"
      ],
      "metadata": {
        "id": "b17-siIeHGjf"
      }
    },
    {
      "cell_type": "code",
      "source": [
        "S1 = {66, 40, 50, 20, 55, 60}\n",
        "S2 = {40, 50, 60, 70, 80, 90}\n",
        "\n",
        "# Find the union\n",
        "union_set = S1.union(S2)\n",
        "\n",
        "# Output\n",
        "print(\"Union of S1 and S2:\", union_set)\n"
      ],
      "metadata": {
        "colab": {
          "base_uri": "https://localhost:8080/"
        },
        "id": "k0j3vh_bHIGr",
        "outputId": "4e9728d8-e67b-471c-c153-304ac09294fd"
      },
      "execution_count": null,
      "outputs": [
        {
          "output_type": "stream",
          "name": "stdout",
          "text": [
            "Union of S1 and S2: {66, 70, 40, 80, 50, 20, 55, 90, 60}\n"
          ]
        }
      ]
    },
    {
      "cell_type": "markdown",
      "source": [
        "(v)WAP to find the intersection between S1 and S2.\n"
      ],
      "metadata": {
        "id": "kZT99j7nHPmt"
      }
    },
    {
      "cell_type": "code",
      "source": [
        "S1 = {66, 40, 50, 20, 55, 60}\n",
        "S2 = {40, 50, 60, 70, 80, 90}\n",
        "\n",
        "# Find the intersection\n",
        "intersection_set = S1.intersection(S2)\n",
        "\n",
        "print(\"Intersection of S1 and S2:\", intersection_set)\n"
      ],
      "metadata": {
        "colab": {
          "base_uri": "https://localhost:8080/"
        },
        "id": "K3gpvk6GHSrp",
        "outputId": "fce41a12-baac-4f38-f890-e31b92a73aed"
      },
      "execution_count": null,
      "outputs": [
        {
          "output_type": "stream",
          "name": "stdout",
          "text": [
            "Intersection of S1 and S2: {40, 50, 60}\n"
          ]
        }
      ]
    },
    {
      "cell_type": "markdown",
      "source": [
        "(vi)WAP to find the S1 - S2"
      ],
      "metadata": {
        "id": "AdBH5-DOHl3x"
      }
    },
    {
      "cell_type": "code",
      "source": [
        "S1 = {66, 40, 50, 20, 55, 60}\n",
        "S2 = {40, 50, 60, 70, 80, 90}\n",
        "\n",
        "# Find the set difference\n",
        "difference_set = S1.difference(S2)\n",
        "\n",
        "print(\"Difference of S1 and S2:\", difference_set)\n"
      ],
      "metadata": {
        "colab": {
          "base_uri": "https://localhost:8080/"
        },
        "id": "rrCrl42oHpAG",
        "outputId": "8b3b82f7-d16b-4e1c-a8fd-8d5ca0e1204f"
      },
      "execution_count": null,
      "outputs": [
        {
          "output_type": "stream",
          "name": "stdout",
          "text": [
            "Difference of S1 and S2: {66, 20, 55}\n"
          ]
        }
      ]
    },
    {
      "cell_type": "markdown",
      "source": [
        "question 4Write the following program\n"
      ],
      "metadata": {
        "id": "nOwBeLpkIq4Q"
      }
    },
    {
      "cell_type": "markdown",
      "source": [
        "(i)WAP to print 100 random strings whose length between 6 and 8"
      ],
      "metadata": {
        "id": "uVLYjncPIshb"
      }
    },
    {
      "cell_type": "code",
      "source": [
        "import random\n",
        "import string\n",
        "def generate_random_string():\n",
        "    return ''.join(random.choices(string.ascii_letters + string.digits, k=random.randint(6, 8)))\n",
        "\n",
        "random_strings = [generate_random_string() for _ in range(100)]\n",
        "\n",
        "for i, string in enumerate(random_strings, 1):\n",
        "    print(f\"String {i}: {string}\")\n"
      ],
      "metadata": {
        "colab": {
          "base_uri": "https://localhost:8080/"
        },
        "id": "65CCRJ5IJEmN",
        "outputId": "6b28d078-845c-4f3a-a585-24c18a189644"
      },
      "execution_count": null,
      "outputs": [
        {
          "output_type": "stream",
          "name": "stdout",
          "text": [
            "String 1: pjncakY0\n",
            "String 2: 6kJgBmbT\n",
            "String 3: OZd0Cf\n",
            "String 4: bythli\n",
            "String 5: LfetrvP\n",
            "String 6: zuR3cY\n",
            "String 7: mj3ZOod\n",
            "String 8: yVn9Wx4\n",
            "String 9: 864v1qPz\n",
            "String 10: YOxT2W1\n",
            "String 11: vKNb6u0N\n",
            "String 12: DKpjyLch\n",
            "String 13: t4odlqJ2\n",
            "String 14: ejFj7zmE\n",
            "String 15: btknGcF\n",
            "String 16: deBTU1ZT\n",
            "String 17: M0Y668\n",
            "String 18: ILmxo2v\n",
            "String 19: 0JcIDFy\n",
            "String 20: gNPmEP\n",
            "String 21: DDqIgIG4\n",
            "String 22: F49u08eF\n",
            "String 23: FnkcapG\n",
            "String 24: lFATEzA\n",
            "String 25: ASUKra\n",
            "String 26: XPEjID\n",
            "String 27: 4rAeM1r6\n",
            "String 28: XvM3Xxb\n",
            "String 29: jDTxOPx\n",
            "String 30: Z54hkN\n",
            "String 31: ZrvhlG\n",
            "String 32: tXMsu8k\n",
            "String 33: bjfEftgF\n",
            "String 34: beL55Y3o\n",
            "String 35: qwoERuGn\n",
            "String 36: KS5HuS\n",
            "String 37: 4YTiKUMm\n",
            "String 38: tYeCjWoO\n",
            "String 39: j3i1G9u\n",
            "String 40: fjFSyE\n",
            "String 41: Ml4BOkso\n",
            "String 42: 18YO58v\n",
            "String 43: dFUn2aRB\n",
            "String 44: OvfaBe\n",
            "String 45: qpPlWCq\n",
            "String 46: jlqxj7\n",
            "String 47: vFK178\n",
            "String 48: tBr9Ybx5\n",
            "String 49: lSbOUN\n",
            "String 50: ecngmf\n",
            "String 51: KiHO4iCB\n",
            "String 52: tR5Q0hQn\n",
            "String 53: cLugKIhQ\n",
            "String 54: yGE7HhG6\n",
            "String 55: dFqVlk\n",
            "String 56: 5SsgOv2r\n",
            "String 57: mudpjTsp\n",
            "String 58: byHAIr\n",
            "String 59: zyqQSS\n",
            "String 60: kmxMwHx\n",
            "String 61: YfyYK9n\n",
            "String 62: MOBxdh\n",
            "String 63: 8LwOJa\n",
            "String 64: mattWKbE\n",
            "String 65: 8hypm2L\n",
            "String 66: yCYKXL\n",
            "String 67: 5sL1QI\n",
            "String 68: EUmviOUu\n",
            "String 69: ijNpNdYq\n",
            "String 70: BM3EFELf\n",
            "String 71: CPV8bFJ\n",
            "String 72: 3ilLffY1\n",
            "String 73: tA662Yp\n",
            "String 74: GBYco3I\n",
            "String 75: sAhWOq9\n",
            "String 76: PoQhi9d\n",
            "String 77: ls2oxP\n",
            "String 78: G2c17B\n",
            "String 79: jCG4JlgN\n",
            "String 80: DLYYEB\n",
            "String 81: VjCqparn\n",
            "String 82: g14RbVk\n",
            "String 83: fa5TBv7\n",
            "String 84: rkGVXdxf\n",
            "String 85: oMSTjW\n",
            "String 86: PRuK5L\n",
            "String 87: 1EawdV\n",
            "String 88: K6xYjzxK\n",
            "String 89: ZB7ym45\n",
            "String 90: VIbhBfB\n",
            "String 91: dxUMlObs\n",
            "String 92: uONKgbo\n",
            "String 93: krdvgt\n",
            "String 94: vg8p9kR\n",
            "String 95: VbvtqL\n",
            "String 96: iiKfmG0\n",
            "String 97: pDYPqU9\n",
            "String 98: ozPENkaQ\n",
            "String 99: w9zWQP\n",
            "String 100: OpR4hGG\n"
          ]
        }
      ]
    },
    {
      "cell_type": "markdown",
      "source": [
        "(ii)WAP to print all prime numbers between 600 and 800."
      ],
      "metadata": {
        "id": "g7WtRX9PJRj2"
      }
    },
    {
      "cell_type": "code",
      "source": [
        "def is_prime(n):\n",
        "    if n <= 1:\n",
        "        return False\n",
        "    if n <= 3:\n",
        "        return True\n",
        "    if n % 2 == 0 or n % 3 == 0:\n",
        "        return False\n",
        "    i = 5\n",
        "    while i * i <= n:\n",
        "        if n % i == 0 or n % (i + 2) == 0:\n",
        "            return False\n",
        "        i += 6\n",
        "    return True\n",
        "print(\"Prime numbers between 600 and 800:\")\n",
        "for num in range(600, 801):\n",
        "    if is_prime(num):\n",
        "        print(num)\n"
      ],
      "metadata": {
        "colab": {
          "base_uri": "https://localhost:8080/"
        },
        "id": "kDbJ6TPbJTQb",
        "outputId": "33dc40df-35be-48d8-d562-c49305e25467"
      },
      "execution_count": null,
      "outputs": [
        {
          "output_type": "stream",
          "name": "stdout",
          "text": [
            "Prime numbers between 600 and 800:\n",
            "601\n",
            "607\n",
            "613\n",
            "617\n",
            "619\n",
            "631\n",
            "641\n",
            "643\n",
            "647\n",
            "653\n",
            "659\n",
            "661\n",
            "673\n",
            "677\n",
            "683\n",
            "691\n",
            "701\n",
            "709\n",
            "719\n",
            "727\n",
            "733\n",
            "739\n",
            "743\n",
            "751\n",
            "757\n",
            "761\n",
            "769\n",
            "773\n",
            "787\n",
            "797\n"
          ]
        }
      ]
    },
    {
      "cell_type": "markdown",
      "source": [
        "(iii)WAP to print all numbers between 100 and 1000 that are divisible by 7 and 9."
      ],
      "metadata": {
        "id": "VfVTOwPQJpCU"
      }
    },
    {
      "cell_type": "code",
      "source": [
        "print(\"Numbers between 100 and 1000 divisible by both 7 and 9:\")\n",
        "for num in range(100, 1001):\n",
        "    if num % 7 == 0 and num % 9 == 0:\n",
        "        print(num)\n"
      ],
      "metadata": {
        "colab": {
          "base_uri": "https://localhost:8080/"
        },
        "id": "ACRe1RzGJq_F",
        "outputId": "90b2e324-e4c4-4e81-89bb-868651059907"
      },
      "execution_count": null,
      "outputs": [
        {
          "output_type": "stream",
          "name": "stdout",
          "text": [
            "Numbers between 100 and 1000 divisible by both 7 and 9:\n",
            "126\n",
            "189\n",
            "252\n",
            "315\n",
            "378\n",
            "441\n",
            "504\n",
            "567\n",
            "630\n",
            "693\n",
            "756\n",
            "819\n",
            "882\n",
            "945\n"
          ]
        }
      ]
    },
    {
      "cell_type": "markdown",
      "source": [
        "question 5  WAP to create two lists of 10 random numbers between 10 and 30; Find"
      ],
      "metadata": {
        "id": "EGO09koUKZCK"
      }
    },
    {
      "cell_type": "markdown",
      "source": [
        "(i)Common numbers in the two lists\n"
      ],
      "metadata": {
        "id": "iq1I0_DhKaft"
      }
    },
    {
      "cell_type": "code",
      "source": [
        "import random\n",
        "def generate_random_numbers():\n",
        "    return [random.randint(10, 30) for _ in range(10)]\n",
        "list1 = generate_random_numbers()\n",
        "list2 = generate_random_numbers()\n",
        "common_numbers = set(list1) & set(list2)\n",
        "\n",
        "print(\"Common numbers in the two lists:\", common_numbers)\n"
      ],
      "metadata": {
        "colab": {
          "base_uri": "https://localhost:8080/"
        },
        "id": "is6nbF0PKcoY",
        "outputId": "57586c0c-022e-4a41-ce64-d74d7f8c92e7"
      },
      "execution_count": null,
      "outputs": [
        {
          "output_type": "stream",
          "name": "stdout",
          "text": [
            "Common numbers in the two lists: {16, 19, 13}\n"
          ]
        }
      ]
    },
    {
      "cell_type": "markdown",
      "source": [
        "(ii)Unique numbers in both the list"
      ],
      "metadata": {
        "id": "AsZEKBk9KtTS"
      }
    },
    {
      "cell_type": "code",
      "source": [
        "import random\n",
        "def generate_random_numbers():\n",
        "    return [random.randint(10, 30) for _ in range(10)]\n",
        "list1 = generate_random_numbers()\n",
        "list2 = generate_random_numbers()\n",
        "unique_numbers = set(list1) ^ set(list2)\n",
        "print(\"Unique numbers in both lists:\", unique_numbers)\n"
      ],
      "metadata": {
        "colab": {
          "base_uri": "https://localhost:8080/"
        },
        "id": "eAgHvnpfKy4D",
        "outputId": "adb75cc5-0650-496f-c0e4-a88fa1140ec3"
      },
      "execution_count": null,
      "outputs": [
        {
          "output_type": "stream",
          "name": "stdout",
          "text": [
            "Unique numbers in both lists: {11, 13, 15, 20, 21, 27, 28, 29}\n"
          ]
        }
      ]
    },
    {
      "cell_type": "markdown",
      "source": [
        "(iii)Minimum in both the list"
      ],
      "metadata": {
        "id": "HBVwrXxILBEO"
      }
    },
    {
      "cell_type": "code",
      "source": [
        "import random\n",
        "def generate_random_numbers():\n",
        "    return [random.randint(10, 30) for _ in range(10)]\n",
        "list1 = generate_random_numbers()\n",
        "list2 = generate_random_numbers()\n",
        "min_in_list1 = min(list1)\n",
        "min_in_list2 = min(list2)\n",
        "print(\"Minimum value in list1:\", min_in_list1)\n",
        "print(\"Minimum value in list2:\", min_in_list2)\n"
      ],
      "metadata": {
        "colab": {
          "base_uri": "https://localhost:8080/"
        },
        "id": "jL1jKJFbLEca",
        "outputId": "664e7631-bfd6-4842-dd27-a4574e61a04b"
      },
      "execution_count": null,
      "outputs": [
        {
          "output_type": "stream",
          "name": "stdout",
          "text": [
            "Minimum value in list1: 10\n",
            "Minimum value in list2: 10\n"
          ]
        }
      ]
    },
    {
      "cell_type": "markdown",
      "source": [
        "(iv)Maximum in both the list"
      ],
      "metadata": {
        "id": "TeJ7HFjhLca3"
      }
    },
    {
      "cell_type": "code",
      "source": [
        "import random\n",
        "def generate_random_numbers():\n",
        "    return [random.randint(10, 30) for _ in range(10)]\n",
        "list1 = generate_random_numbers()\n",
        "list2 = generate_random_numbers()\n",
        "max_in_list1 = max(list1)\n",
        "\n",
        "max_in_list2 = max(list2)\n",
        "\n",
        "print(\"Maximum value in list1:\", max_in_list1)\n",
        "print(\"Maximum value in list2:\", max_in_list2)\n"
      ],
      "metadata": {
        "colab": {
          "base_uri": "https://localhost:8080/"
        },
        "id": "8unw_5mzLiR5",
        "outputId": "b1c71642-dbea-4626-e97c-43435871abbb"
      },
      "execution_count": null,
      "outputs": [
        {
          "output_type": "stream",
          "name": "stdout",
          "text": [
            "Maximum value in list1: 30\n",
            "Maximum value in list2: 29\n"
          ]
        }
      ]
    },
    {
      "cell_type": "markdown",
      "source": [
        "(v)Sum of both the lists\n"
      ],
      "metadata": {
        "id": "Gzbe_SmOL8EA"
      }
    },
    {
      "cell_type": "code",
      "source": [
        "import random\n",
        "def generate_random_numbers():\n",
        "    return [random.randint(10, 30) for _ in range(10)]\n",
        "\n",
        "list1 = generate_random_numbers()\n",
        "list2 = generate_random_numbers()\n",
        "\n",
        "sum_of_list1 = sum(list1)\n",
        "sum_of_list2 = sum(list2)\n",
        "\n",
        "print(\"Sum of all elements in list1:\", sum_of_list1)\n",
        "print(\"Sum of all elements in list2:\", sum_of_list2)\n"
      ],
      "metadata": {
        "colab": {
          "base_uri": "https://localhost:8080/"
        },
        "id": "jv9AAo4kL9cQ",
        "outputId": "bb6836d7-9145-4c39-ad2e-006648a8f2e7"
      },
      "execution_count": null,
      "outputs": [
        {
          "output_type": "stream",
          "name": "stdout",
          "text": [
            "Sum of all elements in list1: 201\n",
            "Sum of all elements in list2: 188\n"
          ]
        }
      ]
    },
    {
      "cell_type": "markdown",
      "source": [
        "question 6 . WAP to create a list of 100 random numbers between 100 and 900. Count and print the:\n"
      ],
      "metadata": {
        "id": "ZDJLxCdtM6FD"
      }
    },
    {
      "cell_type": "markdown",
      "source": [
        "(i)All odd numbers"
      ],
      "metadata": {
        "id": "TmLcZI-mM7wS"
      }
    },
    {
      "cell_type": "code",
      "source": [
        "import random\n",
        "random_numbers = [random.randint(100, 900) for _ in range(100)]\n",
        "odd_count = 0\n",
        "print(\"Odd numbers:\")\n",
        "for num in random_numbers:\n",
        "    if num % 2 != 0:\n",
        "        print(num)\n",
        "        odd_count += 1\n",
        "print(\"Count of odd numbers:\", odd_count)\n"
      ],
      "metadata": {
        "colab": {
          "base_uri": "https://localhost:8080/"
        },
        "id": "vhBXrPaIM86h",
        "outputId": "be80e721-3e2f-45f4-ae79-495f88ea7253"
      },
      "execution_count": null,
      "outputs": [
        {
          "output_type": "stream",
          "name": "stdout",
          "text": [
            "Odd numbers:\n",
            "141\n",
            "229\n",
            "111\n",
            "435\n",
            "165\n",
            "585\n",
            "103\n",
            "479\n",
            "139\n",
            "489\n",
            "899\n",
            "825\n",
            "133\n",
            "659\n",
            "717\n",
            "771\n",
            "829\n",
            "107\n",
            "405\n",
            "383\n",
            "169\n",
            "131\n",
            "345\n",
            "721\n",
            "151\n",
            "823\n",
            "621\n",
            "453\n",
            "241\n",
            "865\n",
            "207\n",
            "277\n",
            "851\n",
            "269\n",
            "513\n",
            "107\n",
            "685\n",
            "739\n",
            "407\n",
            "149\n",
            "143\n",
            "517\n",
            "441\n",
            "163\n",
            "203\n",
            "581\n",
            "579\n",
            "107\n",
            "495\n",
            "625\n",
            "523\n",
            "281\n",
            "261\n",
            "Count of odd numbers: 53\n"
          ]
        }
      ]
    },
    {
      "cell_type": "markdown",
      "source": [
        "(ii)All even numbers"
      ],
      "metadata": {
        "id": "7iLUpvRdNDg6"
      }
    },
    {
      "cell_type": "code",
      "source": [
        "import random\n",
        "random_numbers = [random.randint(100, 900) for _ in range(100)]\n",
        "even_count = 0\n",
        "print(\"Even numbers:\")\n",
        "for num in random_numbers:\n",
        "    if num % 2 == 0:\n",
        "        print(num)\n",
        "        even_count += 1\n",
        "print(\"Count of even numbers:\", even_count)\n"
      ],
      "metadata": {
        "colab": {
          "base_uri": "https://localhost:8080/"
        },
        "id": "_c-KNUewNE-O",
        "outputId": "427bcae2-7419-4098-f177-7a57b31e36ef"
      },
      "execution_count": null,
      "outputs": [
        {
          "output_type": "stream",
          "name": "stdout",
          "text": [
            "Even numbers:\n",
            "508\n",
            "146\n",
            "432\n",
            "416\n",
            "262\n",
            "560\n",
            "354\n",
            "306\n",
            "616\n",
            "378\n",
            "818\n",
            "440\n",
            "324\n",
            "688\n",
            "766\n",
            "376\n",
            "248\n",
            "284\n",
            "634\n",
            "530\n",
            "596\n",
            "812\n",
            "826\n",
            "138\n",
            "672\n",
            "496\n",
            "312\n",
            "646\n",
            "794\n",
            "556\n",
            "362\n",
            "450\n",
            "630\n",
            "900\n",
            "268\n",
            "122\n",
            "700\n",
            "242\n",
            "620\n",
            "888\n",
            "640\n",
            "158\n",
            "744\n",
            "328\n",
            "676\n",
            "744\n",
            "200\n",
            "378\n",
            "824\n",
            "318\n",
            "Count of even numbers: 50\n"
          ]
        }
      ]
    },
    {
      "cell_type": "markdown",
      "source": [
        "(iii)All prime numbers"
      ],
      "metadata": {
        "id": "fx7I-vYXNVPG"
      }
    },
    {
      "cell_type": "code",
      "source": [
        "import random\n",
        "def is_prime(num):\n",
        "    if num < 2:\n",
        "        return False\n",
        "    for i in range(2, int(num ** 0.5) + 1):\n",
        "        if num % i == 0:\n",
        "            return False\n",
        "    return True\n",
        "random_numbers = [random.randint(100, 900) for _ in range(100)]\n",
        "print(\"Prime numbers:\")\n",
        "for num in random_numbers:\n",
        "    if is_prime(num):\n",
        "        print(num)\n"
      ],
      "metadata": {
        "colab": {
          "base_uri": "https://localhost:8080/"
        },
        "id": "NR9D1CBVNYQ4",
        "outputId": "2fb4f4ab-026b-49c5-edc0-c43fe1c3e8e7"
      },
      "execution_count": null,
      "outputs": [
        {
          "output_type": "stream",
          "name": "stdout",
          "text": [
            "Prime numbers:\n",
            "599\n",
            "227\n",
            "101\n",
            "233\n",
            "331\n",
            "647\n",
            "401\n",
            "373\n",
            "821\n",
            "701\n",
            "347\n",
            "757\n",
            "599\n"
          ]
        }
      ]
    },
    {
      "cell_type": "markdown",
      "source": [
        "question 7  D is a dictionary defined as D={1:\"One\",2:\"Two\",3:\"Three\",4:\"Four\", 5:\"Five\"}.\n",
        " WAP to read all the keys and values from dictionary and write to the file in the given below format.\n",
        "Key1, Value1\n",
        "Key2, Value2\n",
        "Key3, Value3"
      ],
      "metadata": {
        "id": "IbTxuWQ9NvBD"
      }
    },
    {
      "cell_type": "code",
      "source": [
        "D = {1: \"One\", 2: \"Two\", 3: \"Three\", 4: \"Four\", 5: \"Five\"}\n",
        "with open(\"dictionary_output,txt\", \"w\") as file:\n",
        "\n",
        "    for key, value in D.items():\n",
        "               file.write(f\"{key}, {value}\\n\")\n",
        "\n",
        "\n"
      ],
      "metadata": {
        "id": "daYpx9CiNwXf"
      },
      "execution_count": null,
      "outputs": []
    },
    {
      "cell_type": "markdown",
      "source": [
        "question 8  L is a list defined as L={\"One\",\"Two\",\"Three\",\"Four\",\"Five\"}.\n",
        " WAP to count the length of reach element from a list and write to the file in the given below format:\n",
        "One, 3\n",
        "Two, 3\n",
        "Four, 4"
      ],
      "metadata": {
        "id": "eh_yme_hRV38"
      }
    },
    {
      "cell_type": "code",
      "source": [
        "L = [\"One\", \"Two\", \"Three\", \"Four\", \"Five\"]\n",
        "with open(\"element_lengths.txt\", \"w\") as file:\n",
        "        for element in L:\n",
        "                length = len(element)\n",
        "                file.write(f\"{element}, {length}\\n\")\n",
        "\n"
      ],
      "metadata": {
        "id": "mT61MS4SRXP4"
      },
      "execution_count": null,
      "outputs": []
    },
    {
      "cell_type": "markdown",
      "source": [
        "question 9  Write to the file 100 random strings whose length between 10 and 15."
      ],
      "metadata": {
        "id": "LUGmH9GdSepT"
      }
    },
    {
      "cell_type": "code",
      "source": [
        "import random\n",
        "import string\n",
        "def generate_random_string():\n",
        "    return ''.join(random.choices(string.ascii_letters + string.digits, k=random.randint(10, 15)))\n",
        "with open(\"random_strings.txt\", \"w\") as file:\n",
        "       for _ in range(100):\n",
        "        random_string = generate_random_string()\n",
        "        file.write(random_string + '\\n')\n"
      ],
      "metadata": {
        "id": "rXJhD_fKSgmW"
      },
      "execution_count": null,
      "outputs": []
    },
    {
      "cell_type": "markdown",
      "source": [
        "question 10 Write to the file all prime numbers between 600 and 800"
      ],
      "metadata": {
        "id": "NVaUzGBoS13l"
      }
    },
    {
      "cell_type": "code",
      "source": [
        "def is_prime(n):\n",
        "    if n <= 1:\n",
        "        return False\n",
        "    if n <= 3:\n",
        "        return True\n",
        "    if n % 2 == 0 or n % 3 == 0:\n",
        "        return False\n",
        "    i = 5\n",
        "    while i * i <= n:\n",
        "        if n % i == 0 or n % (i + 2) == 0:\n",
        "            return False\n",
        "        i += 6\n",
        "    return True\n",
        "with open(\"prime_numbers.txt\", \"w\") as file:\n",
        "       for num in range(600, 801):\n",
        "                if is_prime(num):\n",
        "                        file.write(f\"{num}\\n\")\n"
      ],
      "metadata": {
        "id": "x4XTx4LfS4Fs"
      },
      "execution_count": null,
      "outputs": []
    },
    {
      "cell_type": "markdown",
      "source": [
        "question 11 WAP to calculate the time taken by a program"
      ],
      "metadata": {
        "id": "MLJlYpupTJXE"
      }
    },
    {
      "cell_type": "code",
      "source": [
        "import time\n",
        "start_time = time.time()\n",
        "end_time = time.time()\n",
        "time_taken = end_time - start_time\n",
        "print(\"Time taken:\", time_taken, \"seconds\")\n"
      ],
      "metadata": {
        "colab": {
          "base_uri": "https://localhost:8080/"
        },
        "id": "Gl19Mn-ZTLFw",
        "outputId": "0cae1f40-edcf-4b44-9d02-9c27ca72bf69"
      },
      "execution_count": null,
      "outputs": [
        {
          "output_type": "stream",
          "name": "stdout",
          "text": [
            "Time taken: 4.57763671875e-05 seconds\n"
          ]
        }
      ]
    },
    {
      "cell_type": "markdown",
      "source": [
        "question 12  WAP to sort following number of elements in a list, calculate time taken and plot the graph.\n",
        "Number of elements in list Time Taken\n",
        "5k T1\n",
        "10k T2\n",
        "15k T3\n",
        "20k T4\n",
        "25k T5"
      ],
      "metadata": {
        "id": "_umiYfSyTq2s"
      }
    },
    {
      "cell_type": "code",
      "source": [
        "import time\n",
        "import random\n",
        "import matplotlib.pyplot as plt\n",
        "def generate_random_list(length):\n",
        "    return [random.randint(1, 1000) for _ in range(length)]\n",
        "def sort_and_measure_time(input_list):\n",
        "    start_time = time.time()\n",
        "    sorted_list = sorted(input_list)\n",
        "    end_time = time.time()\n",
        "    return end_time - start_time\n",
        "list_lengths = [5000, 10000, 15000, 20000, 25000]\n",
        "time_taken = []\n",
        "for length in list_lengths:\n",
        "    input_list = generate_random_list(length)\n",
        "    sorting_time = sort_and_measure_time(input_list)\n",
        "    time_taken.append(sorting_time)\n",
        "    print(f\"Time taken to sort {length} elements: {sorting_time:.6f} seconds\")\n",
        "plt.plot(list_lengths, time_taken, marker='o')\n",
        "plt.xlabel('Number of Elements in List')\n",
        "plt.ylabel('Time Taken (seconds)')\n",
        "plt.title('Time Taken to Sort Lists of Different Lengths')\n",
        "plt.grid(True)\n",
        "plt.show()\n"
      ],
      "metadata": {
        "colab": {
          "base_uri": "https://localhost:8080/",
          "height": 559
        },
        "id": "chBjLpJmTsYX",
        "outputId": "f929d773-e09b-46e0-c235-1b91a2d873cb"
      },
      "execution_count": null,
      "outputs": [
        {
          "output_type": "stream",
          "name": "stdout",
          "text": [
            "Time taken to sort 5000 elements: 0.001172 seconds\n",
            "Time taken to sort 10000 elements: 0.002638 seconds\n",
            "Time taken to sort 15000 elements: 0.003891 seconds\n",
            "Time taken to sort 20000 elements: 0.009828 seconds\n",
            "Time taken to sort 25000 elements: 0.006982 seconds\n"
          ]
        },
        {
          "output_type": "display_data",
          "data": {
            "text/plain": [
              "<Figure size 640x480 with 1 Axes>"
            ],
            "image/png": "[encoded data removed]"
          },
          "metadata": {}
        }
      ]
    },
    {
      "cell_type": "markdown",
      "source": [
        "question 13 WAP to create a dictionary of student marks in five subjects and you have to find the student\n",
        " having maximum and minimum average marks"
      ],
      "metadata": {
        "id": "xjZhPj79UDxX"
      }
    },
    {
      "cell_type": "code",
      "source": [
        "student_marks = {\n",
        "    'Student1': [90, 85, 88, 92, 87],\n",
        "    'Student2': [78, 85, 90, 82, 88],\n",
        "    'Student3': [95, 92, 96, 88, 90],\n",
        "    'Student4': [80, 75, 85, 70, 78],\n",
        "    'Student5': [70, 65, 72, 68, 74]\n",
        "}\n",
        "average_marks = {}\n",
        "for student, marks in student_marks.items():\n",
        "    average_marks[student] = sum(marks) / len(marks)\n",
        "max_average_student = max(average_marks, key=average_marks.get)\n",
        "min_average_student = min(average_marks, key=average_marks.get)\n",
        "print(\"Student with maximum average marks:\", max_average_student)\n",
        "print(\"Student with minimum average marks:\", min_average_student)\n"
      ],
      "metadata": {
        "colab": {
          "base_uri": "https://localhost:8080/"
        },
        "id": "hR4LzT-sUGb-",
        "outputId": "acee1697-4536-4527-c0b4-818547f78f55"
      },
      "execution_count": null,
      "outputs": [
        {
          "output_type": "stream",
          "name": "stdout",
          "text": [
            "Student with maximum average marks: Student3\n",
            "Student with minimum average marks: Student5\n"
          ]
        }
      ]
    }
  ]
}